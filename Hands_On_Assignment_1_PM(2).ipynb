{
  "nbformat": 4,
  "nbformat_minor": 0,
  "metadata": {
    "colab": {
      "name": "Hands On Assignment 1 PM.ipynb",
      "provenance": [],
      "collapsed_sections": []
    },
    "kernelspec": {
      "name": "python3",
      "display_name": "Python 3"
    },
    "language_info": {
      "name": "python"
    }
  },
  "cells": [
    {
      "cell_type": "markdown",
      "source": [
        "Loading in the data and taking an intial look at the first 3 rows of data. "
      ],
      "metadata": {
        "id": "9u-9oaphzPo1"
      }
    },
    {
      "cell_type": "code",
      "execution_count": 56,
      "metadata": {
        "colab": {
          "base_uri": "https://localhost:8080/",
          "height": 443
        },
        "id": "zOM9VRiaqReg",
        "outputId": "a32755fc-57cd-45c9-c759-9153124a9337"
      },
      "outputs": [
        {
          "output_type": "execute_result",
          "data": {
            "text/plain": [
              "   row_id code      country region_code      region   wave  month  year  \\\n",
              "0       1  AFG  Afghanistan         SAR  South Asia  WAVE1    9.0  2020   \n",
              "1       2  AFG  Afghanistan         SAR  South Asia  WAVE1    9.0  2020   \n",
              "2       3  AFG  Afghanistan         SAR  South Asia  WAVE1    9.0  2020   \n",
              "\n",
              "  indicator_topic   indicator  ... measure_type  GDP_pc  ln_GDP_pc many_waves  \\\n",
              "0     Demographic  Demo_educ1  ...            p  2065.0        8.0          0   \n",
              "1     Demographic  Demo_educ2  ...            p  2065.0        8.0          0   \n",
              "2     Demographic  Demo_educ3  ...            p  2065.0        8.0          0   \n",
              "\n",
              "         weight_type                                           footnote  \\\n",
              "0  Individual weight                                                NaN   \n",
              "1  Individual weight  (*) the category includes incomplete and compl...   \n",
              "2  Individual weight  (*) the category includes incomplete and compl...   \n",
              "\n",
              "   survey_producer survey_link       last_updated                       source  \n",
              "0              NaN         NaN  03/8/2022 16:44PM  High Frequency Phone Survey  \n",
              "1              NaN         NaN  03/8/2022 16:44PM  High Frequency Phone Survey  \n",
              "2              NaN         NaN  03/8/2022 16:44PM  High Frequency Phone Survey  \n",
              "\n",
              "[3 rows x 31 columns]"
            ],
            "text/html": [
              "\n",
              "  <div id=\"df-a2996fca-22e3-4c34-bd5f-dffe19a4e514\">\n",
              "    <div class=\"colab-df-container\">\n",
              "      <div>\n",
              "<style scoped>\n",
              "    .dataframe tbody tr th:only-of-type {\n",
              "        vertical-align: middle;\n",
              "    }\n",
              "\n",
              "    .dataframe tbody tr th {\n",
              "        vertical-align: top;\n",
              "    }\n",
              "\n",
              "    .dataframe thead th {\n",
              "        text-align: right;\n",
              "    }\n",
              "</style>\n",
              "<table border=\"1\" class=\"dataframe\">\n",
              "  <thead>\n",
              "    <tr style=\"text-align: right;\">\n",
              "      <th></th>\n",
              "      <th>row_id</th>\n",
              "      <th>code</th>\n",
              "      <th>country</th>\n",
              "      <th>region_code</th>\n",
              "      <th>region</th>\n",
              "      <th>wave</th>\n",
              "      <th>month</th>\n",
              "      <th>year</th>\n",
              "      <th>indicator_topic</th>\n",
              "      <th>indicator</th>\n",
              "      <th>...</th>\n",
              "      <th>measure_type</th>\n",
              "      <th>GDP_pc</th>\n",
              "      <th>ln_GDP_pc</th>\n",
              "      <th>many_waves</th>\n",
              "      <th>weight_type</th>\n",
              "      <th>footnote</th>\n",
              "      <th>survey_producer</th>\n",
              "      <th>survey_link</th>\n",
              "      <th>last_updated</th>\n",
              "      <th>source</th>\n",
              "    </tr>\n",
              "  </thead>\n",
              "  <tbody>\n",
              "    <tr>\n",
              "      <th>0</th>\n",
              "      <td>1</td>\n",
              "      <td>AFG</td>\n",
              "      <td>Afghanistan</td>\n",
              "      <td>SAR</td>\n",
              "      <td>South Asia</td>\n",
              "      <td>WAVE1</td>\n",
              "      <td>9.0</td>\n",
              "      <td>2020</td>\n",
              "      <td>Demographic</td>\n",
              "      <td>Demo_educ1</td>\n",
              "      <td>...</td>\n",
              "      <td>p</td>\n",
              "      <td>2065.0</td>\n",
              "      <td>8.0</td>\n",
              "      <td>0</td>\n",
              "      <td>Individual weight</td>\n",
              "      <td>NaN</td>\n",
              "      <td>NaN</td>\n",
              "      <td>NaN</td>\n",
              "      <td>03/8/2022 16:44PM</td>\n",
              "      <td>High Frequency Phone Survey</td>\n",
              "    </tr>\n",
              "    <tr>\n",
              "      <th>1</th>\n",
              "      <td>2</td>\n",
              "      <td>AFG</td>\n",
              "      <td>Afghanistan</td>\n",
              "      <td>SAR</td>\n",
              "      <td>South Asia</td>\n",
              "      <td>WAVE1</td>\n",
              "      <td>9.0</td>\n",
              "      <td>2020</td>\n",
              "      <td>Demographic</td>\n",
              "      <td>Demo_educ2</td>\n",
              "      <td>...</td>\n",
              "      <td>p</td>\n",
              "      <td>2065.0</td>\n",
              "      <td>8.0</td>\n",
              "      <td>0</td>\n",
              "      <td>Individual weight</td>\n",
              "      <td>(*) the category includes incomplete and compl...</td>\n",
              "      <td>NaN</td>\n",
              "      <td>NaN</td>\n",
              "      <td>03/8/2022 16:44PM</td>\n",
              "      <td>High Frequency Phone Survey</td>\n",
              "    </tr>\n",
              "    <tr>\n",
              "      <th>2</th>\n",
              "      <td>3</td>\n",
              "      <td>AFG</td>\n",
              "      <td>Afghanistan</td>\n",
              "      <td>SAR</td>\n",
              "      <td>South Asia</td>\n",
              "      <td>WAVE1</td>\n",
              "      <td>9.0</td>\n",
              "      <td>2020</td>\n",
              "      <td>Demographic</td>\n",
              "      <td>Demo_educ3</td>\n",
              "      <td>...</td>\n",
              "      <td>p</td>\n",
              "      <td>2065.0</td>\n",
              "      <td>8.0</td>\n",
              "      <td>0</td>\n",
              "      <td>Individual weight</td>\n",
              "      <td>(*) the category includes incomplete and compl...</td>\n",
              "      <td>NaN</td>\n",
              "      <td>NaN</td>\n",
              "      <td>03/8/2022 16:44PM</td>\n",
              "      <td>High Frequency Phone Survey</td>\n",
              "    </tr>\n",
              "  </tbody>\n",
              "</table>\n",
              "<p>3 rows × 31 columns</p>\n",
              "</div>\n",
              "      <button class=\"colab-df-convert\" onclick=\"convertToInteractive('df-a2996fca-22e3-4c34-bd5f-dffe19a4e514')\"\n",
              "              title=\"Convert this dataframe to an interactive table.\"\n",
              "              style=\"display:none;\">\n",
              "        \n",
              "  <svg xmlns=\"http://www.w3.org/2000/svg\" height=\"24px\"viewBox=\"0 0 24 24\"\n",
              "       width=\"24px\">\n",
              "    <path d=\"M0 0h24v24H0V0z\" fill=\"none\"/>\n",
              "    <path d=\"M18.56 5.44l.94 2.06.94-2.06 2.06-.94-2.06-.94-.94-2.06-.94 2.06-2.06.94zm-11 1L8.5 8.5l.94-2.06 2.06-.94-2.06-.94L8.5 2.5l-.94 2.06-2.06.94zm10 10l.94 2.06.94-2.06 2.06-.94-2.06-.94-.94-2.06-.94 2.06-2.06.94z\"/><path d=\"M17.41 7.96l-1.37-1.37c-.4-.4-.92-.59-1.43-.59-.52 0-1.04.2-1.43.59L10.3 9.45l-7.72 7.72c-.78.78-.78 2.05 0 2.83L4 21.41c.39.39.9.59 1.41.59.51 0 1.02-.2 1.41-.59l7.78-7.78 2.81-2.81c.8-.78.8-2.07 0-2.86zM5.41 20L4 18.59l7.72-7.72 1.47 1.35L5.41 20z\"/>\n",
              "  </svg>\n",
              "      </button>\n",
              "      \n",
              "  <style>\n",
              "    .colab-df-container {\n",
              "      display:flex;\n",
              "      flex-wrap:wrap;\n",
              "      gap: 12px;\n",
              "    }\n",
              "\n",
              "    .colab-df-convert {\n",
              "      background-color: #E8F0FE;\n",
              "      border: none;\n",
              "      border-radius: 50%;\n",
              "      cursor: pointer;\n",
              "      display: none;\n",
              "      fill: #1967D2;\n",
              "      height: 32px;\n",
              "      padding: 0 0 0 0;\n",
              "      width: 32px;\n",
              "    }\n",
              "\n",
              "    .colab-df-convert:hover {\n",
              "      background-color: #E2EBFA;\n",
              "      box-shadow: 0px 1px 2px rgba(60, 64, 67, 0.3), 0px 1px 3px 1px rgba(60, 64, 67, 0.15);\n",
              "      fill: #174EA6;\n",
              "    }\n",
              "\n",
              "    [theme=dark] .colab-df-convert {\n",
              "      background-color: #3B4455;\n",
              "      fill: #D2E3FC;\n",
              "    }\n",
              "\n",
              "    [theme=dark] .colab-df-convert:hover {\n",
              "      background-color: #434B5C;\n",
              "      box-shadow: 0px 1px 3px 1px rgba(0, 0, 0, 0.15);\n",
              "      filter: drop-shadow(0px 1px 2px rgba(0, 0, 0, 0.3));\n",
              "      fill: #FFFFFF;\n",
              "    }\n",
              "  </style>\n",
              "\n",
              "      <script>\n",
              "        const buttonEl =\n",
              "          document.querySelector('#df-a2996fca-22e3-4c34-bd5f-dffe19a4e514 button.colab-df-convert');\n",
              "        buttonEl.style.display =\n",
              "          google.colab.kernel.accessAllowed ? 'block' : 'none';\n",
              "\n",
              "        async function convertToInteractive(key) {\n",
              "          const element = document.querySelector('#df-a2996fca-22e3-4c34-bd5f-dffe19a4e514');\n",
              "          const dataTable =\n",
              "            await google.colab.kernel.invokeFunction('convertToInteractive',\n",
              "                                                     [key], {});\n",
              "          if (!dataTable) return;\n",
              "\n",
              "          const docLinkHtml = 'Like what you see? Visit the ' +\n",
              "            '<a target=\"_blank\" href=https://colab.research.google.com/notebooks/data_table.ipynb>data table notebook</a>'\n",
              "            + ' to learn more about interactive tables.';\n",
              "          element.innerHTML = '';\n",
              "          dataTable['output_type'] = 'display_data';\n",
              "          await google.colab.output.renderOutput(dataTable, element);\n",
              "          const docLink = document.createElement('div');\n",
              "          docLink.innerHTML = docLinkHtml;\n",
              "          element.appendChild(docLink);\n",
              "        }\n",
              "      </script>\n",
              "    </div>\n",
              "  </div>\n",
              "  "
            ]
          },
          "metadata": {},
          "execution_count": 56
        }
      ],
      "source": [
        "import pandas as pd\n",
        "import matplotlib.pyplot as plt\n",
        "import seaborn as sns\n",
        "import numpy as np\n",
        "df = pd.read_csv('https://storage.googleapis.com/hk1159/COVID_data.csv')\n",
        "df.head(3)"
      ]
    },
    {
      "cell_type": "markdown",
      "source": [
        "Checking the types of the columns to see what columns are comparable."
      ],
      "metadata": {
        "id": "RtSAVOVMVX7X"
      }
    },
    {
      "cell_type": "code",
      "source": [
        "df.dtypes"
      ],
      "metadata": {
        "colab": {
          "base_uri": "https://localhost:8080/"
        },
        "id": "T2sC0n_lU1Tr",
        "outputId": "eb03de62-c2f5-4652-b4b7-635558d7c13b"
      },
      "execution_count": 57,
      "outputs": [
        {
          "output_type": "execute_result",
          "data": {
            "text/plain": [
              "row_id                     int64\n",
              "code                      object\n",
              "country                   object\n",
              "region_code               object\n",
              "region                    object\n",
              "wave                      object\n",
              "month                    float64\n",
              "year                       int64\n",
              "indicator_topic           object\n",
              "indicator                 object\n",
              "indicator_description     object\n",
              "indicator_display         object\n",
              "indicator_val            float64\n",
              "urban_rural               object\n",
              "industry                  object\n",
              "sample_subset              int64\n",
              "sample_total             float64\n",
              "FCS                       object\n",
              "income_group              object\n",
              "lending_category          object\n",
              "unit_measure              object\n",
              "measure_type              object\n",
              "GDP_pc                   float64\n",
              "ln_GDP_pc                float64\n",
              "many_waves                 int64\n",
              "weight_type               object\n",
              "footnote                  object\n",
              "survey_producer           object\n",
              "survey_link               object\n",
              "last_updated              object\n",
              "source                    object\n",
              "dtype: object"
            ]
          },
          "metadata": {},
          "execution_count": 57
        }
      ]
    },
    {
      "cell_type": "markdown",
      "source": [
        "Looking at the sumary statistics for all numeric variables.\n"
      ],
      "metadata": {
        "id": "kZjvsboLtQJY"
      }
    },
    {
      "cell_type": "code",
      "source": [
        "df.describe()"
      ],
      "metadata": {
        "id": "9oJLHARftNAh"
      },
      "execution_count": null,
      "outputs": []
    },
    {
      "cell_type": "markdown",
      "source": [
        "Trying to find some correlations in the float variables to make life easier. Not seeing much."
      ],
      "metadata": {
        "id": "zGnmkTp6VQxA"
      }
    },
    {
      "cell_type": "code",
      "source": [
        "corr = pd.DataFrame(df).corr()\n",
        "sns.heatmap(corr, vmin=-1, vmax=1, center=0, cmap=sns.diverging_palette(200, 20, n=100)).set(title=\"Correlation Matrix of All Numerical Variables in Data Set\")"
      ],
      "metadata": {
        "colab": {
          "base_uri": "https://localhost:8080/",
          "height": 364
        },
        "id": "1vJF34EryXNU",
        "outputId": "6576831b-d9c1-49e1-f601-331d3bad70a2"
      },
      "execution_count": 55,
      "outputs": [
        {
          "output_type": "execute_result",
          "data": {
            "text/plain": [
              "[Text(0.5, 1.0, 'Correlation Matrix of All Numerical Variables in Data Set')]"
            ]
          },
          "metadata": {},
          "execution_count": 55
        },
        {
          "output_type": "display_data",
          "data": {
            "text/plain": [
              "<Figure size 432x288 with 2 Axes>"
            ],
            "image/png": "[encoded data removed]"
          },
          "metadata": {
            "needs_background": "light"
          }
        }
      ]
    },
    {
      "cell_type": "markdown",
      "source": [
        "Looking at the correlation between all numeric variables, but there's not many interesting combinations. So I decided to plot GDP_pc vs. Sample total which showed a slight negative correlation above."
      ],
      "metadata": {
        "id": "wpYoG3wDyoWD"
      }
    },
    {
      "cell_type": "code",
      "source": [
        "plt.title('Scatter plot of GDP / IND values')\n",
        "plt.ylabel(\"sample_total\")\n",
        "plt.xlabel(\"Indicator Values\")\n",
        "plt.scatter(df.GDP_pc, df.sample_total)"
      ],
      "metadata": {
        "colab": {
          "base_uri": "https://localhost:8080/",
          "height": 313
        },
        "id": "n2bSlrdaUtzz",
        "outputId": "d38fdc6a-277e-4326-df60-b34cbe54d850"
      },
      "execution_count": 58,
      "outputs": [
        {
          "output_type": "execute_result",
          "data": {
            "text/plain": [
              "<matplotlib.collections.PathCollection at 0x7fc5975fd210>"
            ]
          },
          "metadata": {},
          "execution_count": 58
        },
        {
          "output_type": "display_data",
          "data": {
            "text/plain": [
              "<Figure size 432x288 with 1 Axes>"
            ],
            "image/png": "[encoded data removed]"
          },
          "metadata": {
            "needs_background": "light"
          }
        }
      ]
    },
    {
      "cell_type": "markdown",
      "source": [
        "Looking at the count of rows by region."
      ],
      "metadata": {
        "id": "cskEw5D-Vd46"
      }
    },
    {
      "cell_type": "code",
      "source": [
        "df['region'].value_counts()"
      ],
      "metadata": {
        "colab": {
          "base_uri": "https://localhost:8080/"
        },
        "id": "DzIlZvf451Q7",
        "outputId": "2c8cf436-a90e-4a0a-8ebc-0a736f46d414"
      },
      "execution_count": 59,
      "outputs": [
        {
          "output_type": "execute_result",
          "data": {
            "text/plain": [
              "Sub-Saharan Africa            49256\n",
              "Latin America & Caribbean     41156\n",
              "East Asia & Pacific           16741\n",
              "Europe & Central Asia         10157\n",
              "Middle East & North Africa     5278\n",
              "South Asia                      267\n",
              "Name: region, dtype: int64"
            ]
          },
          "metadata": {},
          "execution_count": 59
        }
      ]
    },
    {
      "cell_type": "markdown",
      "source": [
        "Wanted to look at amount of countries in the datatset after seeing the regions."
      ],
      "metadata": {
        "id": "RNIOLcI4vuxa"
      }
    },
    {
      "cell_type": "code",
      "source": [
        "print(df['country'].unique())"
      ],
      "metadata": {
        "colab": {
          "base_uri": "https://localhost:8080/"
        },
        "id": "ZBAku7c4vqCv",
        "outputId": "ca98965e-e254-4c44-945c-cfaa133b68ee"
      },
      "execution_count": 60,
      "outputs": [
        {
          "output_type": "stream",
          "name": "stdout",
          "text": [
            "['Afghanistan' 'Argentina' 'Armenia' 'Antigua and Barbuda' 'Burkina Faso'\n",
            " 'Bangladesh' 'Bulgaria' 'Belize' 'Bolivia' 'Brazil' 'Bhutan'\n",
            " 'Central African Republic (Bangui/Bimbo)' 'Central African Republic'\n",
            " 'Chile' 'Congo, Dem. Rep. (Kinshasa)' 'Congo, Rep.' 'Colombia'\n",
            " 'Costa Rica' 'Djibouti' 'Dominica' 'Dominican Republic' 'Ecuador'\n",
            " 'Ethiopia' 'Gabon' 'Georgia' 'Ghana' 'Guinea' 'Gambia, The' 'Guatemala'\n",
            " 'Guyana' 'Honduras' 'Croatia' 'Haiti' 'Indonesia' 'Iraq' 'Jamaica'\n",
            " 'Kenya' 'Cambodia' 'Lao PDR' 'Lebanon' 'Libya' 'St. Lucia' 'Sri Lanka'\n",
            " 'Madagascar' 'Maldives' 'Mexico' 'Mali' 'Myanmar' 'Mongolia'\n",
            " 'Mozambique (urban)' 'Mauritius' 'Malawi' 'Malaysia' 'Nigeria'\n",
            " 'Nicaragua' 'Nepal' 'Pakistan' 'Panama' 'Peru' 'Philippines'\n",
            " 'Papua New Guinea' 'Poland' 'Paraguay' 'West Bank and Gaza' 'Romania'\n",
            " 'Rwanda' 'Sudan' 'Senegal' 'Solomon Islands' 'Sierra Leone' 'El Salvador'\n",
            " 'Somalia' 'South Sudan' 'São Tomé and Principe' 'Chad' 'Thailand'\n",
            " 'Tajikistan' 'Tunisia' 'Uganda' 'Uruguay' 'Uzbekistan' 'Vietnam' 'Zambia'\n",
            " 'Zimbabwe']\n"
          ]
        }
      ]
    },
    {
      "cell_type": "markdown",
      "source": [
        "Looking to see what months have the most data. Could tell us when data is collected the most or when there are more incidents of certain things. In other words can show intiate bias in the data (e.g. food is more insecure in the winter, so food security measures are less accurate in June which is the most volume in this chart)"
      ],
      "metadata": {
        "id": "v0D5DrPcC7_O"
      }
    },
    {
      "cell_type": "code",
      "source": [
        "plt.hist(df.month.dropna())\n",
        "plt.xticks([1,2,3,4,5,6,7,8,9,10,11,12])\n",
        "plt.title('Distribution Of Rows by Month')\n",
        "plt.xlabel(\"Month Number\")\n",
        "plt.ylabel(\"# of rows (frequency)\")\n",
        "plt.show()"
      ],
      "metadata": {
        "colab": {
          "base_uri": "https://localhost:8080/",
          "height": 295
        },
        "id": "-t2Uye2o__ZV",
        "outputId": "6973f7f8-8523-42fd-e2db-046ba863a36c"
      },
      "execution_count": 61,
      "outputs": [
        {
          "output_type": "display_data",
          "data": {
            "text/plain": [
              "<Figure size 432x288 with 1 Axes>"
            ],
            "image/png": "[encoded data removed]"
          },
          "metadata": {
            "needs_background": "light"
          }
        }
      ]
    },
    {
      "cell_type": "markdown",
      "source": [
        "Looking at distribution of GDP to see what the common range is for the countries in the dataset."
      ],
      "metadata": {
        "id": "qxsgr37BIsLe"
      }
    },
    {
      "cell_type": "code",
      "source": [
        "df[\"GDP_pc\"].plot.box()\n",
        "plt.title(\"GDP Boxplot\")\n",
        "plt.ylabel(\"GDP\")"
      ],
      "metadata": {
        "colab": {
          "base_uri": "https://localhost:8080/",
          "height": 300
        },
        "id": "LRanv5dDCSrk",
        "outputId": "2c3e3219-3258-484a-f952-56c75186e1ed"
      },
      "execution_count": 62,
      "outputs": [
        {
          "output_type": "execute_result",
          "data": {
            "text/plain": [
              "Text(0, 0.5, 'GDP')"
            ]
          },
          "metadata": {},
          "execution_count": 62
        },
        {
          "output_type": "display_data",
          "data": {
            "text/plain": [
              "<Figure size 432x288 with 1 Axes>"
            ],
            "image/png": "[encoded data removed]"
          },
          "metadata": {
            "needs_background": "light"
          }
        }
      ]
    },
    {
      "cell_type": "markdown",
      "source": [
        "Looking at distribution of income groups in the data set to get a better feel of the population that we are looking at."
      ],
      "metadata": {
        "id": "kTlhA7obRb5J"
      }
    },
    {
      "cell_type": "code",
      "source": [
        "separate = [0.01, 0.01,0.01,0.01]\n",
        "pie = df['income_group'].value_counts().plot.pie(explode=separate, colors=['green','yellow'],\n",
        "                                     autopct=(lambda p : '{:.2f}%'.format(p)),\n",
        "                                     fontsize=20, pctdistance=0.5,\n",
        "                                     figsize=(6, 6))\n",
        "plt.title(\"Income Group Mix\")"
      ],
      "metadata": {
        "colab": {
          "base_uri": "https://localhost:8080/",
          "height": 391
        },
        "id": "COd_AXVsJkoD",
        "outputId": "0af657fd-7514-437b-96b9-00daf683682f"
      },
      "execution_count": 63,
      "outputs": [
        {
          "output_type": "execute_result",
          "data": {
            "text/plain": [
              "Text(0.5, 1.0, 'Income Group Mix')"
            ]
          },
          "metadata": {},
          "execution_count": 63
        },
        {
          "output_type": "display_data",
          "data": {
            "text/plain": [
              "<Figure size 432x432 with 1 Axes>"
            ],
            "image/png": "[encoded data removed]"
          },
          "metadata": {}
        }
      ]
    },
    {
      "cell_type": "markdown",
      "source": [
        "Combining the two above ideas to look at the distribtuion of income groups in each month to see if they are different month to month."
      ],
      "metadata": {
        "id": "QFqciYQmSuqR"
      }
    },
    {
      "cell_type": "code",
      "source": [
        "\n",
        "unstacked = df.groupby(['month', 'income_group']).size().unstack()\n",
        "unstacked.plot(kind='barh', stacked=True)\n",
        "plt.xlabel(\"Frequency\")\n",
        "plt.ylabel(\"Month Number\")\n",
        "plt.title(\"Volume by Month Colored by Income Group\")"
      ],
      "metadata": {
        "colab": {
          "base_uri": "https://localhost:8080/",
          "height": 297
        },
        "id": "OedXyu7sRtpt",
        "outputId": "059aa96d-ed3e-4048-a699-dc595ea3228d"
      },
      "execution_count": 64,
      "outputs": [
        {
          "output_type": "execute_result",
          "data": {
            "text/plain": [
              "Text(0, 0.5, 'Month Number')"
            ]
          },
          "metadata": {},
          "execution_count": 64
        },
        {
          "output_type": "display_data",
          "data": {
            "text/plain": [
              "<Figure size 432x288 with 1 Axes>"
            ],
            "image/png": "[encoded data removed]"
          },
          "metadata": {
            "needs_background": "light"
          }
        }
      ]
    },
    {
      "cell_type": "markdown",
      "source": [
        "Looking at a frequency table of the above graph to notice trends more clearly. It does appear that there is a weathering effect in when the data is collected. As there is more data for the summer months than other months. Upper middle income seems especially sensitive to this as it goes from almost no data in months like February to the highest count of units in June.\n"
      ],
      "metadata": {
        "id": "7yXEq1pArLoW"
      }
    },
    {
      "cell_type": "code",
      "source": [
        "Freq_table = pd.crosstab(index=df['month'], \n",
        "\t                       columns=df['income_group'],\n",
        "\t                             margins=True)   \n",
        "Freq_table.columns = [\"High income\" , \"Low income\" , \"Lower middle income\" , \"Upper middle income\" ,\"rowtotal\"]\n",
        "Freq_table.index= ['1','2','3','4','5','6','7','8','9','10','11','12',\"coltotal\"]\n",
        "Freq_table"
      ],
      "metadata": {
        "colab": {
          "base_uri": "https://localhost:8080/",
          "height": 457
        },
        "id": "kltMUezvllef",
        "outputId": "23d49ff0-801e-41b6-ed1c-abaff0ae67b6"
      },
      "execution_count": 53,
      "outputs": [
        {
          "output_type": "execute_result",
          "data": {
            "text/plain": [
              "          High income  Low income  Lower middle income  Upper middle income  \\\n",
              "1                   0        1480                  586                 1149   \n",
              "2                   0        1217                  639                    4   \n",
              "3                 147        2270                 1871                 1185   \n",
              "4                  90        2221                 1984                   88   \n",
              "5                1380        1739                 6199                 8533   \n",
              "6                2723        9651                 9605                13142   \n",
              "7                 777        5810                 5078                 5554   \n",
              "8                 551        4053                 4099                 6489   \n",
              "9                   0        3389                 1441                  343   \n",
              "10                  0        2592                 2580                  495   \n",
              "11                  0        3424                  818                  641   \n",
              "12                 75        1880                 3939                  920   \n",
              "coltotal         5743       39726                38839                38543   \n",
              "\n",
              "          rowtotal  \n",
              "1             3215  \n",
              "2             1860  \n",
              "3             5473  \n",
              "4             4383  \n",
              "5            17851  \n",
              "6            35121  \n",
              "7            17219  \n",
              "8            15192  \n",
              "9             5173  \n",
              "10            5667  \n",
              "11            4883  \n",
              "12            6814  \n",
              "coltotal    122851  "
            ],
            "text/html": [
              "\n",
              "  <div id=\"df-4590efdc-4423-4d3b-97b6-6c739f51180f\">\n",
              "    <div class=\"colab-df-container\">\n",
              "      <div>\n",
              "<style scoped>\n",
              "    .dataframe tbody tr th:only-of-type {\n",
              "        vertical-align: middle;\n",
              "    }\n",
              "\n",
              "    .dataframe tbody tr th {\n",
              "        vertical-align: top;\n",
              "    }\n",
              "\n",
              "    .dataframe thead th {\n",
              "        text-align: right;\n",
              "    }\n",
              "</style>\n",
              "<table border=\"1\" class=\"dataframe\">\n",
              "  <thead>\n",
              "    <tr style=\"text-align: right;\">\n",
              "      <th></th>\n",
              "      <th>High income</th>\n",
              "      <th>Low income</th>\n",
              "      <th>Lower middle income</th>\n",
              "      <th>Upper middle income</th>\n",
              "      <th>rowtotal</th>\n",
              "    </tr>\n",
              "  </thead>\n",
              "  <tbody>\n",
              "    <tr>\n",
              "      <th>1</th>\n",
              "      <td>0</td>\n",
              "      <td>1480</td>\n",
              "      <td>586</td>\n",
              "      <td>1149</td>\n",
              "      <td>3215</td>\n",
              "    </tr>\n",
              "    <tr>\n",
              "      <th>2</th>\n",
              "      <td>0</td>\n",
              "      <td>1217</td>\n",
              "      <td>639</td>\n",
              "      <td>4</td>\n",
              "      <td>1860</td>\n",
              "    </tr>\n",
              "    <tr>\n",
              "      <th>3</th>\n",
              "      <td>147</td>\n",
              "      <td>2270</td>\n",
              "      <td>1871</td>\n",
              "      <td>1185</td>\n",
              "      <td>5473</td>\n",
              "    </tr>\n",
              "    <tr>\n",
              "      <th>4</th>\n",
              "      <td>90</td>\n",
              "      <td>2221</td>\n",
              "      <td>1984</td>\n",
              "      <td>88</td>\n",
              "      <td>4383</td>\n",
              "    </tr>\n",
              "    <tr>\n",
              "      <th>5</th>\n",
              "      <td>1380</td>\n",
              "      <td>1739</td>\n",
              "      <td>6199</td>\n",
              "      <td>8533</td>\n",
              "      <td>17851</td>\n",
              "    </tr>\n",
              "    <tr>\n",
              "      <th>6</th>\n",
              "      <td>2723</td>\n",
              "      <td>9651</td>\n",
              "      <td>9605</td>\n",
              "      <td>13142</td>\n",
              "      <td>35121</td>\n",
              "    </tr>\n",
              "    <tr>\n",
              "      <th>7</th>\n",
              "      <td>777</td>\n",
              "      <td>5810</td>\n",
              "      <td>5078</td>\n",
              "      <td>5554</td>\n",
              "      <td>17219</td>\n",
              "    </tr>\n",
              "    <tr>\n",
              "      <th>8</th>\n",
              "      <td>551</td>\n",
              "      <td>4053</td>\n",
              "      <td>4099</td>\n",
              "      <td>6489</td>\n",
              "      <td>15192</td>\n",
              "    </tr>\n",
              "    <tr>\n",
              "      <th>9</th>\n",
              "      <td>0</td>\n",
              "      <td>3389</td>\n",
              "      <td>1441</td>\n",
              "      <td>343</td>\n",
              "      <td>5173</td>\n",
              "    </tr>\n",
              "    <tr>\n",
              "      <th>10</th>\n",
              "      <td>0</td>\n",
              "      <td>2592</td>\n",
              "      <td>2580</td>\n",
              "      <td>495</td>\n",
              "      <td>5667</td>\n",
              "    </tr>\n",
              "    <tr>\n",
              "      <th>11</th>\n",
              "      <td>0</td>\n",
              "      <td>3424</td>\n",
              "      <td>818</td>\n",
              "      <td>641</td>\n",
              "      <td>4883</td>\n",
              "    </tr>\n",
              "    <tr>\n",
              "      <th>12</th>\n",
              "      <td>75</td>\n",
              "      <td>1880</td>\n",
              "      <td>3939</td>\n",
              "      <td>920</td>\n",
              "      <td>6814</td>\n",
              "    </tr>\n",
              "    <tr>\n",
              "      <th>coltotal</th>\n",
              "      <td>5743</td>\n",
              "      <td>39726</td>\n",
              "      <td>38839</td>\n",
              "      <td>38543</td>\n",
              "      <td>122851</td>\n",
              "    </tr>\n",
              "  </tbody>\n",
              "</table>\n",
              "</div>\n",
              "      <button class=\"colab-df-convert\" onclick=\"convertToInteractive('df-4590efdc-4423-4d3b-97b6-6c739f51180f')\"\n",
              "              title=\"Convert this dataframe to an interactive table.\"\n",
              "              style=\"display:none;\">\n",
              "        \n",
              "  <svg xmlns=\"http://www.w3.org/2000/svg\" height=\"24px\"viewBox=\"0 0 24 24\"\n",
              "       width=\"24px\">\n",
              "    <path d=\"M0 0h24v24H0V0z\" fill=\"none\"/>\n",
              "    <path d=\"M18.56 5.44l.94 2.06.94-2.06 2.06-.94-2.06-.94-.94-2.06-.94 2.06-2.06.94zm-11 1L8.5 8.5l.94-2.06 2.06-.94-2.06-.94L8.5 2.5l-.94 2.06-2.06.94zm10 10l.94 2.06.94-2.06 2.06-.94-2.06-.94-.94-2.06-.94 2.06-2.06.94z\"/><path d=\"M17.41 7.96l-1.37-1.37c-.4-.4-.92-.59-1.43-.59-.52 0-1.04.2-1.43.59L10.3 9.45l-7.72 7.72c-.78.78-.78 2.05 0 2.83L4 21.41c.39.39.9.59 1.41.59.51 0 1.02-.2 1.41-.59l7.78-7.78 2.81-2.81c.8-.78.8-2.07 0-2.86zM5.41 20L4 18.59l7.72-7.72 1.47 1.35L5.41 20z\"/>\n",
              "  </svg>\n",
              "      </button>\n",
              "      \n",
              "  <style>\n",
              "    .colab-df-container {\n",
              "      display:flex;\n",
              "      flex-wrap:wrap;\n",
              "      gap: 12px;\n",
              "    }\n",
              "\n",
              "    .colab-df-convert {\n",
              "      background-color: #E8F0FE;\n",
              "      border: none;\n",
              "      border-radius: 50%;\n",
              "      cursor: pointer;\n",
              "      display: none;\n",
              "      fill: #1967D2;\n",
              "      height: 32px;\n",
              "      padding: 0 0 0 0;\n",
              "      width: 32px;\n",
              "    }\n",
              "\n",
              "    .colab-df-convert:hover {\n",
              "      background-color: #E2EBFA;\n",
              "      box-shadow: 0px 1px 2px rgba(60, 64, 67, 0.3), 0px 1px 3px 1px rgba(60, 64, 67, 0.15);\n",
              "      fill: #174EA6;\n",
              "    }\n",
              "\n",
              "    [theme=dark] .colab-df-convert {\n",
              "      background-color: #3B4455;\n",
              "      fill: #D2E3FC;\n",
              "    }\n",
              "\n",
              "    [theme=dark] .colab-df-convert:hover {\n",
              "      background-color: #434B5C;\n",
              "      box-shadow: 0px 1px 3px 1px rgba(0, 0, 0, 0.15);\n",
              "      filter: drop-shadow(0px 1px 2px rgba(0, 0, 0, 0.3));\n",
              "      fill: #FFFFFF;\n",
              "    }\n",
              "  </style>\n",
              "\n",
              "      <script>\n",
              "        const buttonEl =\n",
              "          document.querySelector('#df-4590efdc-4423-4d3b-97b6-6c739f51180f button.colab-df-convert');\n",
              "        buttonEl.style.display =\n",
              "          google.colab.kernel.accessAllowed ? 'block' : 'none';\n",
              "\n",
              "        async function convertToInteractive(key) {\n",
              "          const element = document.querySelector('#df-4590efdc-4423-4d3b-97b6-6c739f51180f');\n",
              "          const dataTable =\n",
              "            await google.colab.kernel.invokeFunction('convertToInteractive',\n",
              "                                                     [key], {});\n",
              "          if (!dataTable) return;\n",
              "\n",
              "          const docLinkHtml = 'Like what you see? Visit the ' +\n",
              "            '<a target=\"_blank\" href=https://colab.research.google.com/notebooks/data_table.ipynb>data table notebook</a>'\n",
              "            + ' to learn more about interactive tables.';\n",
              "          element.innerHTML = '';\n",
              "          dataTable['output_type'] = 'display_data';\n",
              "          await google.colab.output.renderOutput(dataTable, element);\n",
              "          const docLink = document.createElement('div');\n",
              "          docLink.innerHTML = docLinkHtml;\n",
              "          element.appendChild(docLink);\n",
              "        }\n",
              "      </script>\n",
              "    </div>\n",
              "  </div>\n",
              "  "
            ]
          },
          "metadata": {},
          "execution_count": 53
        }
      ]
    },
    {
      "cell_type": "markdown",
      "source": [
        "# CONCLUSION\n",
        "\n",
        "What I have found is that the data is heavily weighted to the summer months and this might have an effect on what income groups are being surveyed. My theory is that it is just easier to survey during warmer months, so this is why there is more data in these months."
      ],
      "metadata": {
        "id": "VMUqLOWfrqEV"
      }
    }
  ]
}